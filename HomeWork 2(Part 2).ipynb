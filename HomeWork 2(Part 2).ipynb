{
 "cells": [
  {
   "cell_type": "code",
   "execution_count": 1,
   "metadata": {
    "collapsed": false
   },
   "outputs": [],
   "source": [
    "# Problem 2"
   ]
  },
  {
   "cell_type": "code",
   "execution_count": 2,
   "metadata": {
    "collapsed": false
   },
   "outputs": [
    {
     "name": "stdout",
     "output_type": "stream",
     "text": [
      "Enter amount of Loan:1200\n",
      "enter interest rate:2.3\n",
      "Enter num of years:4\n",
      "monthly payment $: 26.191564663746405\n"
     ]
    }
   ],
   "source": [
    "loan = int(input(\"Enter amount of Loan:\"))\n",
    "int_rate = float(input(\"enter interest rate:\"))\n",
    "year = int(input(\"Enter num of years:\"))\n",
    "i = int_rate/1200\n",
    "num1 = (1 + i)** (-12*year)\n",
    "monthy_pay = i/(1-num1)\n",
    "month = monthy_pay*loan\n",
    "print(\"monthly payment $:\", month)"
   ]
  },
  {
   "cell_type": "code",
   "execution_count": 3,
   "metadata": {
    "collapsed": true
   },
   "outputs": [],
   "source": [
    "# Monthly Payment would be 234.23"
   ]
  },
  {
   "cell_type": "code",
   "execution_count": 5,
   "metadata": {
    "collapsed": true
   },
   "outputs": [
    {
     "name": "stdout",
     "output_type": "stream",
     "text": [
      "Enter face value of bond:1000\n",
      "enter interest rate:0.04\n",
      "Enter current market price:1180\n",
      "Enter num of years:15\n",
      "Approx YTM 2.5688073394495414\n"
     ]
    }
   ],
   "source": [
    "# \n",
    "face_value = int(input(\"Enter face value of bond:\"))\n",
    "int_rate = float(input(\"enter interest rate:\"))\n",
    "market_price = int(input(\"Enter current market price:\"))\n",
    "year = int(input(\"Enter num of years:\"))\n",
    "intr = (int_rate*1000)\n",
    "a = (face_value - market_price)/ year\n",
    "b = (face_value + market_price)/ 2\n",
    "ytm = (intr + a) /b\n",
    "ytm = ytm*100\n",
    "print(\"Approx YTM\", ytm)"
   ]
  },
  {
   "cell_type": "code",
   "execution_count": 6,
   "metadata": {
    "collapsed": false
   },
   "outputs": [
    {
     "name": "stdout",
     "output_type": "stream",
     "text": [
      "Enter number of miles:5\n",
      "Enter number of yards:20\n",
      "Enter number of feet:2\n",
      "Enter number of inches:4\n",
      "metric length 317548\n",
      "total_meters:  8065.735331470663\n",
      "km:  8\n"
     ]
    }
   ],
   "source": [
    "# problem 6\n",
    "\n",
    "miles = int(input(\"Enter number of miles:\"))\n",
    "yards = int(input(\"Enter number of yards:\"))\n",
    "feet = int(input(\"Enter number of feet:\"))\n",
    "inches  = int(input(\"Enter number of inches:\"))\n",
    "total_inches = 63360*miles + 36 *yards + 12*feet + inches\n",
    "total_meters = total_inches/39.37\n",
    "kilometer = int(total_meters/1000)\n",
    "print(\"metric length\", total_inches,)\n",
    "print(\"total_meters: \", total_meters)\n",
    "print(\"km: \", kilometer)\n"
   ]
  },
  {
   "cell_type": "code",
   "execution_count": 9,
   "metadata": {
    "collapsed": false
   },
   "outputs": [
    {
     "name": "stdout",
     "output_type": "stream",
     "text": [
      "Enter number of amount invested in SPY:100\n",
      "Enter number of amount invested in QQQ:200\n",
      "Enter number of amount invested in EEM:300\n",
      "Enter number of amount invested in VVX:400\n",
      "SPY % 10.0\n",
      "QQQ % 20.0\n",
      "EEM % 30.0\n",
      "VVX % 40.0\n"
     ]
    }
   ],
   "source": [
    "SPY= int(input(\"Enter number of amount invested in SPY:\"))\n",
    "QQQ = int(input(\"Enter number of amount invested in QQQ:\"))\n",
    "EEM = int(input(\"Enter number of amount invested in EEM:\"))\n",
    "VVX= int(input(\"Enter number of amount invested in VVX:\"))\n",
    "total = SPY+QQQ+EEM+VVX\n",
    "SPY1 = (SPY/total)*100\n",
    "QQQ1 = (QQQ/total)*100\n",
    "EEM1 = (EEM/total)*100\n",
    "VVX1 =(VVX/total)*100\n",
    "print(\"SPY %\", SPY1)\n",
    "print(\"QQQ %\", QQQ1)\n",
    "print(\"EEM %\", EEM1)\n",
    "print(\"VVX %\", VVX1)"
   ]
  },
  {
   "cell_type": "code",
   "execution_count": 19,
   "metadata": {
    "collapsed": false
   },
   "outputs": [
    {
     "name": "stdout",
     "output_type": "stream",
     "text": [
      "Enter an amount:75\n",
      "quarter 3.0\n"
     ]
    }
   ],
   "source": [
    "# PROBLEM 1\n",
    "change= int((input(\"Enter an amount:\")))\n",
    "c = float(change/10)\n",
    "quarter = change/25\n",
    "print(\"quarter\",quarter)\n"
   ]
  },
  {
   "cell_type": "code",
   "execution_count": null,
   "metadata": {
    "collapsed": true
   },
   "outputs": [],
   "source": []
  }
 ],
 "metadata": {
  "kernelspec": {
   "display_name": "Python [Root]",
   "language": "python",
   "name": "Python [Root]"
  },
  "language_info": {
   "codemirror_mode": {
    "name": "ipython",
    "version": 3
   },
   "file_extension": ".py",
   "mimetype": "text/x-python",
   "name": "python",
   "nbconvert_exporter": "python",
   "pygments_lexer": "ipython3",
   "version": "3.5.3"
  }
 },
 "nbformat": 4,
 "nbformat_minor": 0
}
